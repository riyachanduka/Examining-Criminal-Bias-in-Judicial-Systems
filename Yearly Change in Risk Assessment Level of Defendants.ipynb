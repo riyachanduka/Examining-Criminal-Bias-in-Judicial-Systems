{
 "cells": [
  {
   "cell_type": "code",
   "execution_count": 379,
   "metadata": {},
   "outputs": [],
   "source": [
    "import numpy as np\n",
    "import pandas as pd\n",
    "import matplotlib.pyplot as plt"
   ]
  },
  {
   "cell_type": "code",
   "execution_count": 380,
   "metadata": {},
   "outputs": [],
   "source": [
    "df=pd.read_csv('/Users/riyachanduka/Documents/Capstone_INST736/Latest_pt.csv')"
   ]
  },
  {
   "cell_type": "code",
   "execution_count": 381,
   "metadata": {},
   "outputs": [
    {
     "data": {
      "text/html": [
       "<div>\n",
       "<style scoped>\n",
       "    .dataframe tbody tr th:only-of-type {\n",
       "        vertical-align: middle;\n",
       "    }\n",
       "\n",
       "    .dataframe tbody tr th {\n",
       "        vertical-align: top;\n",
       "    }\n",
       "\n",
       "    .dataframe thead th {\n",
       "        text-align: right;\n",
       "    }\n",
       "</style>\n",
       "<table border=\"1\" class=\"dataframe\">\n",
       "  <thead>\n",
       "    <tr style=\"text-align: right;\">\n",
       "      <th></th>\n",
       "      <th>original_sheet</th>\n",
       "      <th>record_number</th>\n",
       "      <th>sheet_id</th>\n",
       "      <th>sid_number</th>\n",
       "      <th>gender</th>\n",
       "      <th>race</th>\n",
       "      <th>dob</th>\n",
       "      <th>computed_age</th>\n",
       "      <th>court_date</th>\n",
       "      <th>intake_date</th>\n",
       "      <th>...</th>\n",
       "      <th>case_number_original_field</th>\n",
       "      <th>court_original_field</th>\n",
       "      <th>judge_name_original_field</th>\n",
       "      <th>court_sentencing_original_field</th>\n",
       "      <th>charge_original_field</th>\n",
       "      <th>violation_reason_or_dont_use</th>\n",
       "      <th>judges_decision_or_dont_use</th>\n",
       "      <th>judge_name_or_dont_use</th>\n",
       "      <th>case_number_or_dont_use</th>\n",
       "      <th>charge_open_refine_field_no_use</th>\n",
       "    </tr>\n",
       "  </thead>\n",
       "  <tbody>\n",
       "    <tr>\n",
       "      <th>0</th>\n",
       "      <td>active_pt</td>\n",
       "      <td>1</td>\n",
       "      <td>active_pt_1</td>\n",
       "      <td>4304458</td>\n",
       "      <td>M</td>\n",
       "      <td>B</td>\n",
       "      <td>11/11/99</td>\n",
       "      <td>18.0</td>\n",
       "      <td>1/24/19</td>\n",
       "      <td>2017-11-30T00:00:00Z</td>\n",
       "      <td>...</td>\n",
       "      <td>D043CR17001009</td>\n",
       "      <td>NaN</td>\n",
       "      <td>Chesser</td>\n",
       "      <td>no information provided</td>\n",
       "      <td>Robbery</td>\n",
       "      <td>NaN</td>\n",
       "      <td>Level 4</td>\n",
       "      <td>Chesser</td>\n",
       "      <td>D043CR17001009</td>\n",
       "      <td>robbery</td>\n",
       "    </tr>\n",
       "    <tr>\n",
       "      <th>1</th>\n",
       "      <td>active_pt</td>\n",
       "      <td>2</td>\n",
       "      <td>active_pt_2</td>\n",
       "      <td>3168416</td>\n",
       "      <td>M</td>\n",
       "      <td>W</td>\n",
       "      <td>2/22/94</td>\n",
       "      <td>24.0</td>\n",
       "      <td>3/11/19</td>\n",
       "      <td>2018-07-23T00:00:00Z</td>\n",
       "      <td>...</td>\n",
       "      <td>C18CR18280</td>\n",
       "      <td>NaN</td>\n",
       "      <td>Chesser</td>\n",
       "      <td>no information provided</td>\n",
       "      <td>Burlary 1st</td>\n",
       "      <td>NaN</td>\n",
       "      <td>Level 2</td>\n",
       "      <td>Chesser</td>\n",
       "      <td>C18CR18280</td>\n",
       "      <td>burglary 1st</td>\n",
       "    </tr>\n",
       "    <tr>\n",
       "      <th>2</th>\n",
       "      <td>active_pt</td>\n",
       "      <td>3</td>\n",
       "      <td>active_pt_3</td>\n",
       "      <td>3775956</td>\n",
       "      <td>M</td>\n",
       "      <td>W</td>\n",
       "      <td>3/15/81</td>\n",
       "      <td>37.0</td>\n",
       "      <td>1/15/19</td>\n",
       "      <td>2018-07-27T00:00:00Z</td>\n",
       "      <td>...</td>\n",
       "      <td>D043CR181093</td>\n",
       "      <td>NaN</td>\n",
       "      <td>Riddle, Mr</td>\n",
       "      <td>no information provided</td>\n",
       "      <td>Child abuse 2</td>\n",
       "      <td>NaN</td>\n",
       "      <td>Level 3</td>\n",
       "      <td>Robert Riddle</td>\n",
       "      <td>D043CR181093</td>\n",
       "      <td>child abuse 2nd</td>\n",
       "    </tr>\n",
       "    <tr>\n",
       "      <th>3</th>\n",
       "      <td>active_pt</td>\n",
       "      <td>4</td>\n",
       "      <td>active_pt_4</td>\n",
       "      <td>1458033</td>\n",
       "      <td>M</td>\n",
       "      <td>B</td>\n",
       "      <td>12/8/74</td>\n",
       "      <td>43.0</td>\n",
       "      <td>11/27/18</td>\n",
       "      <td>2018-07-16T00:00:00Z</td>\n",
       "      <td>...</td>\n",
       "      <td>C18CR17107</td>\n",
       "      <td>NaN</td>\n",
       "      <td>Stamm</td>\n",
       "      <td>no information provided</td>\n",
       "      <td>Non-support</td>\n",
       "      <td>NaN</td>\n",
       "      <td>Level 2</td>\n",
       "      <td>Stamm</td>\n",
       "      <td>C18CR17107</td>\n",
       "      <td>non-support</td>\n",
       "    </tr>\n",
       "    <tr>\n",
       "      <th>4</th>\n",
       "      <td>active_pt</td>\n",
       "      <td>5</td>\n",
       "      <td>active_pt_5</td>\n",
       "      <td>1130717</td>\n",
       "      <td>M</td>\n",
       "      <td>B</td>\n",
       "      <td>1/26/70</td>\n",
       "      <td>48.0</td>\n",
       "      <td>2/25/19</td>\n",
       "      <td>2018-09-10T00:00:00Z</td>\n",
       "      <td>...</td>\n",
       "      <td>18K1679</td>\n",
       "      <td>NaN</td>\n",
       "      <td>Stamm</td>\n",
       "      <td>no information provided</td>\n",
       "      <td>VOP (CDS poss not mari)</td>\n",
       "      <td>NaN</td>\n",
       "      <td>Level 3</td>\n",
       "      <td>Stamm</td>\n",
       "      <td>18K1679</td>\n",
       "      <td>vop - cds possession not marijuana</td>\n",
       "    </tr>\n",
       "  </tbody>\n",
       "</table>\n",
       "<p>5 rows × 64 columns</p>\n",
       "</div>"
      ],
      "text/plain": [
       "  original_sheet  record_number     sheet_id sid_number gender race       dob  \\\n",
       "0      active_pt              1  active_pt_1    4304458      M    B  11/11/99   \n",
       "1      active_pt              2  active_pt_2    3168416      M    W   2/22/94   \n",
       "2      active_pt              3  active_pt_3    3775956      M    W   3/15/81   \n",
       "3      active_pt              4  active_pt_4    1458033      M    B   12/8/74   \n",
       "4      active_pt              5  active_pt_5    1130717      M    B   1/26/70   \n",
       "\n",
       "   computed_age court_date           intake_date  \\\n",
       "0          18.0    1/24/19  2017-11-30T00:00:00Z   \n",
       "1          24.0    3/11/19  2018-07-23T00:00:00Z   \n",
       "2          37.0    1/15/19  2018-07-27T00:00:00Z   \n",
       "3          43.0   11/27/18  2018-07-16T00:00:00Z   \n",
       "4          48.0    2/25/19  2018-09-10T00:00:00Z   \n",
       "\n",
       "                  ...                 case_number_original_field  \\\n",
       "0                 ...                             D043CR17001009   \n",
       "1                 ...                                 C18CR18280   \n",
       "2                 ...                               D043CR181093   \n",
       "3                 ...                                 C18CR17107   \n",
       "4                 ...                                    18K1679   \n",
       "\n",
       "  court_original_field judge_name_original_field  \\\n",
       "0                  NaN                   Chesser   \n",
       "1                  NaN                   Chesser   \n",
       "2                  NaN                Riddle, Mr   \n",
       "3                  NaN                     Stamm   \n",
       "4                  NaN                     Stamm   \n",
       "\n",
       "  court_sentencing_original_field    charge_original_field  \\\n",
       "0         no information provided                  Robbery   \n",
       "1         no information provided              Burlary 1st   \n",
       "2         no information provided            Child abuse 2   \n",
       "3         no information provided              Non-support   \n",
       "4         no information provided  VOP (CDS poss not mari)   \n",
       "\n",
       "  violation_reason_or_dont_use judges_decision_or_dont_use  \\\n",
       "0                          NaN                     Level 4   \n",
       "1                          NaN                     Level 2   \n",
       "2                          NaN                     Level 3   \n",
       "3                          NaN                     Level 2   \n",
       "4                          NaN                     Level 3   \n",
       "\n",
       "  judge_name_or_dont_use case_number_or_dont_use  \\\n",
       "0                Chesser          D043CR17001009   \n",
       "1                Chesser              C18CR18280   \n",
       "2          Robert Riddle            D043CR181093   \n",
       "3                  Stamm              C18CR17107   \n",
       "4                  Stamm                 18K1679   \n",
       "\n",
       "      charge_open_refine_field_no_use  \n",
       "0                             robbery  \n",
       "1                        burglary 1st  \n",
       "2                     child abuse 2nd  \n",
       "3                         non-support  \n",
       "4  vop - cds possession not marijuana  \n",
       "\n",
       "[5 rows x 64 columns]"
      ]
     },
     "execution_count": 381,
     "metadata": {},
     "output_type": "execute_result"
    }
   ],
   "source": [
    "df.head()"
   ]
  },
  {
   "cell_type": "code",
   "execution_count": 382,
   "metadata": {},
   "outputs": [],
   "source": [
    "df['date']=pd.to_datetime(df['intake_date'])"
   ]
  },
  {
   "cell_type": "code",
   "execution_count": 383,
   "metadata": {},
   "outputs": [],
   "source": [
    "df['year']=df['date'].dt.year"
   ]
  },
  {
   "cell_type": "code",
   "execution_count": 384,
   "metadata": {},
   "outputs": [],
   "source": [
    "df['year']=df['year'].fillna(0)"
   ]
  },
  {
   "cell_type": "code",
   "execution_count": 385,
   "metadata": {},
   "outputs": [],
   "source": [
    "df['year']=df.year.astype(int)"
   ]
  },
  {
   "cell_type": "code",
   "execution_count": 386,
   "metadata": {},
   "outputs": [
    {
     "data": {
      "text/plain": [
       "array([2017, 2018, 2019, 2016, 2015,    0])"
      ]
     },
     "execution_count": 386,
     "metadata": {},
     "output_type": "execute_result"
    }
   ],
   "source": [
    "df.year.unique()"
   ]
  },
  {
   "cell_type": "code",
   "execution_count": 387,
   "metadata": {},
   "outputs": [],
   "source": [
    "df = df.filter(['year','Charge_Level','risk_assess_level'], axis=1)"
   ]
  },
  {
   "cell_type": "code",
   "execution_count": 388,
   "metadata": {},
   "outputs": [],
   "source": [
    "df=df[df.year != 2015]\n",
    "df=df[df.year != 2019]\n",
    "df=df[df.year != 0]"
   ]
  },
  {
   "cell_type": "code",
   "execution_count": 411,
   "metadata": {},
   "outputs": [],
   "source": [
    "df['year']=pd.to_datetime(df.year, format='%Y')"
   ]
  },
  {
   "cell_type": "code",
   "execution_count": 392,
   "metadata": {},
   "outputs": [],
   "source": [
    "df['year']=df['year'].dt.year"
   ]
  },
  {
   "cell_type": "code",
   "execution_count": 393,
   "metadata": {},
   "outputs": [
    {
     "data": {
      "text/plain": [
       "array([2017, 2018, 2016])"
      ]
     },
     "execution_count": 393,
     "metadata": {},
     "output_type": "execute_result"
    }
   ],
   "source": [
    "df.year.unique()"
   ]
  },
  {
   "cell_type": "code",
   "execution_count": 394,
   "metadata": {},
   "outputs": [],
   "source": [
    "df_high = df[df.Charge_Level == 'High']"
   ]
  },
  {
   "cell_type": "code",
   "execution_count": 395,
   "metadata": {},
   "outputs": [
    {
     "data": {
      "text/html": [
       "<div>\n",
       "<style scoped>\n",
       "    .dataframe tbody tr th:only-of-type {\n",
       "        vertical-align: middle;\n",
       "    }\n",
       "\n",
       "    .dataframe tbody tr th {\n",
       "        vertical-align: top;\n",
       "    }\n",
       "\n",
       "    .dataframe thead th {\n",
       "        text-align: right;\n",
       "    }\n",
       "</style>\n",
       "<table border=\"1\" class=\"dataframe\">\n",
       "  <thead>\n",
       "    <tr style=\"text-align: right;\">\n",
       "      <th></th>\n",
       "      <th>year</th>\n",
       "      <th>Charge_Level</th>\n",
       "      <th>risk_assess_level</th>\n",
       "    </tr>\n",
       "  </thead>\n",
       "  <tbody>\n",
       "    <tr>\n",
       "      <th>0</th>\n",
       "      <td>2017</td>\n",
       "      <td>High</td>\n",
       "      <td>Detain</td>\n",
       "    </tr>\n",
       "    <tr>\n",
       "      <th>1</th>\n",
       "      <td>2018</td>\n",
       "      <td>High</td>\n",
       "      <td>Detain</td>\n",
       "    </tr>\n",
       "    <tr>\n",
       "      <th>2</th>\n",
       "      <td>2018</td>\n",
       "      <td>High</td>\n",
       "      <td>Detain</td>\n",
       "    </tr>\n",
       "    <tr>\n",
       "      <th>5</th>\n",
       "      <td>2018</td>\n",
       "      <td>High</td>\n",
       "      <td>NaN</td>\n",
       "    </tr>\n",
       "    <tr>\n",
       "      <th>6</th>\n",
       "      <td>2018</td>\n",
       "      <td>High</td>\n",
       "      <td>Level 3</td>\n",
       "    </tr>\n",
       "    <tr>\n",
       "      <th>7</th>\n",
       "      <td>2018</td>\n",
       "      <td>High</td>\n",
       "      <td>Sent by judge</td>\n",
       "    </tr>\n",
       "    <tr>\n",
       "      <th>8</th>\n",
       "      <td>2018</td>\n",
       "      <td>High</td>\n",
       "      <td>No recommendation</td>\n",
       "    </tr>\n",
       "    <tr>\n",
       "      <th>10</th>\n",
       "      <td>2018</td>\n",
       "      <td>High</td>\n",
       "      <td>Sent by judge</td>\n",
       "    </tr>\n",
       "    <tr>\n",
       "      <th>13</th>\n",
       "      <td>2018</td>\n",
       "      <td>High</td>\n",
       "      <td>Detain</td>\n",
       "    </tr>\n",
       "    <tr>\n",
       "      <th>14</th>\n",
       "      <td>2018</td>\n",
       "      <td>High</td>\n",
       "      <td>Detain</td>\n",
       "    </tr>\n",
       "  </tbody>\n",
       "</table>\n",
       "</div>"
      ],
      "text/plain": [
       "    year Charge_Level  risk_assess_level\n",
       "0   2017         High             Detain\n",
       "1   2018         High             Detain\n",
       "2   2018         High             Detain\n",
       "5   2018         High                NaN\n",
       "6   2018         High            Level 3\n",
       "7   2018         High      Sent by judge\n",
       "8   2018         High  No recommendation\n",
       "10  2018         High      Sent by judge\n",
       "13  2018         High             Detain\n",
       "14  2018         High             Detain"
      ]
     },
     "execution_count": 395,
     "metadata": {},
     "output_type": "execute_result"
    }
   ],
   "source": [
    "df_high.head(10)\n"
   ]
  },
  {
   "cell_type": "code",
   "execution_count": 413,
   "metadata": {},
   "outputs": [],
   "source": [
    "year_min = df_high['year'].min()\n",
    "year_max = df_high['year'].max()"
   ]
  },
  {
   "cell_type": "code",
   "execution_count": 396,
   "metadata": {},
   "outputs": [
    {
     "data": {
      "text/plain": [
       "(1352, 3)"
      ]
     },
     "execution_count": 396,
     "metadata": {},
     "output_type": "execute_result"
    }
   ],
   "source": [
    "df_high.shape"
   ]
  },
  {
   "cell_type": "code",
   "execution_count": 397,
   "metadata": {},
   "outputs": [],
   "source": [
    "detain_by_year=df_high.groupby('year').risk_assess_level.value_counts().sort_index()"
   ]
  },
  {
   "cell_type": "code",
   "execution_count": 398,
   "metadata": {},
   "outputs": [
    {
     "data": {
      "text/plain": [
       "year  risk_assess_level                                \n",
       "2016  Detain                                               292\n",
       "      Level 1                                                2\n",
       "      Level 2                                                7\n",
       "      Level 3                                                5\n",
       "      Level 4                                               17\n",
       "      No recommendation                                     75\n",
       "      Release without pretrial supervision                  14\n",
       "      Sent by judge                                          1\n",
       "      Wavied                                                 1\n",
       "2017  Detain                                               359\n",
       "      Level 1                                                1\n",
       "      Level 2                                               10\n",
       "      Level 3                                                6\n",
       "      Level 4                                               15\n",
       "      No interview                                           1\n",
       "      No recommendation                                     14\n",
       "      Ordered by court                                       4\n",
       "      Parole Retake                                          1\n",
       "      Redo                                                   1\n",
       "      Release without pretrial supervision                   4\n",
       "      Sent by judge                                          4\n",
       "2018  Detain                                               424\n",
       "      Level 1                                                6\n",
       "      Level 2                                                6\n",
       "      Level 3                                               17\n",
       "      Level 4                                               14\n",
       "      No recommendation                                      6\n",
       "      Release with pretrial supervision - level unknown      2\n",
       "      Release without pretrial supervision                  15\n",
       "      Sent by judge                                         24\n",
       "Name: risk_assess_level, dtype: int64"
      ]
     },
     "execution_count": 398,
     "metadata": {},
     "output_type": "execute_result"
    }
   ],
   "source": [
    "detain_by_year"
   ]
  },
  {
   "cell_type": "code",
   "execution_count": 399,
   "metadata": {},
   "outputs": [],
   "source": [
    "detain_by_year=detain_by_year.unstack()"
   ]
  },
  {
   "cell_type": "code",
   "execution_count": 400,
   "metadata": {},
   "outputs": [
    {
     "data": {
      "text/html": [
       "<div>\n",
       "<style scoped>\n",
       "    .dataframe tbody tr th:only-of-type {\n",
       "        vertical-align: middle;\n",
       "    }\n",
       "\n",
       "    .dataframe tbody tr th {\n",
       "        vertical-align: top;\n",
       "    }\n",
       "\n",
       "    .dataframe thead th {\n",
       "        text-align: right;\n",
       "    }\n",
       "</style>\n",
       "<table border=\"1\" class=\"dataframe\">\n",
       "  <thead>\n",
       "    <tr style=\"text-align: right;\">\n",
       "      <th>risk_assess_level</th>\n",
       "      <th>Detain</th>\n",
       "      <th>Level 1</th>\n",
       "      <th>Level 2</th>\n",
       "      <th>Level 3</th>\n",
       "      <th>Level 4</th>\n",
       "      <th>No interview</th>\n",
       "      <th>No recommendation</th>\n",
       "      <th>Ordered by court</th>\n",
       "      <th>Parole Retake</th>\n",
       "      <th>Redo</th>\n",
       "      <th>Release with pretrial supervision - level unknown</th>\n",
       "      <th>Release without pretrial supervision</th>\n",
       "      <th>Sent by judge</th>\n",
       "      <th>Wavied</th>\n",
       "    </tr>\n",
       "    <tr>\n",
       "      <th>year</th>\n",
       "      <th></th>\n",
       "      <th></th>\n",
       "      <th></th>\n",
       "      <th></th>\n",
       "      <th></th>\n",
       "      <th></th>\n",
       "      <th></th>\n",
       "      <th></th>\n",
       "      <th></th>\n",
       "      <th></th>\n",
       "      <th></th>\n",
       "      <th></th>\n",
       "      <th></th>\n",
       "      <th></th>\n",
       "    </tr>\n",
       "  </thead>\n",
       "  <tbody>\n",
       "    <tr>\n",
       "      <th>2016</th>\n",
       "      <td>292.0</td>\n",
       "      <td>2.0</td>\n",
       "      <td>7.0</td>\n",
       "      <td>5.0</td>\n",
       "      <td>17.0</td>\n",
       "      <td>NaN</td>\n",
       "      <td>75.0</td>\n",
       "      <td>NaN</td>\n",
       "      <td>NaN</td>\n",
       "      <td>NaN</td>\n",
       "      <td>NaN</td>\n",
       "      <td>14.0</td>\n",
       "      <td>1.0</td>\n",
       "      <td>1.0</td>\n",
       "    </tr>\n",
       "    <tr>\n",
       "      <th>2017</th>\n",
       "      <td>359.0</td>\n",
       "      <td>1.0</td>\n",
       "      <td>10.0</td>\n",
       "      <td>6.0</td>\n",
       "      <td>15.0</td>\n",
       "      <td>1.0</td>\n",
       "      <td>14.0</td>\n",
       "      <td>4.0</td>\n",
       "      <td>1.0</td>\n",
       "      <td>1.0</td>\n",
       "      <td>NaN</td>\n",
       "      <td>4.0</td>\n",
       "      <td>4.0</td>\n",
       "      <td>NaN</td>\n",
       "    </tr>\n",
       "    <tr>\n",
       "      <th>2018</th>\n",
       "      <td>424.0</td>\n",
       "      <td>6.0</td>\n",
       "      <td>6.0</td>\n",
       "      <td>17.0</td>\n",
       "      <td>14.0</td>\n",
       "      <td>NaN</td>\n",
       "      <td>6.0</td>\n",
       "      <td>NaN</td>\n",
       "      <td>NaN</td>\n",
       "      <td>NaN</td>\n",
       "      <td>2.0</td>\n",
       "      <td>15.0</td>\n",
       "      <td>24.0</td>\n",
       "      <td>NaN</td>\n",
       "    </tr>\n",
       "  </tbody>\n",
       "</table>\n",
       "</div>"
      ],
      "text/plain": [
       "risk_assess_level  Detain  Level 1  Level 2  Level 3  Level 4  No interview  \\\n",
       "year                                                                          \n",
       "2016                292.0      2.0      7.0      5.0     17.0           NaN   \n",
       "2017                359.0      1.0     10.0      6.0     15.0           1.0   \n",
       "2018                424.0      6.0      6.0     17.0     14.0           NaN   \n",
       "\n",
       "risk_assess_level  No recommendation  Ordered by court  Parole Retake  Redo  \\\n",
       "year                                                                          \n",
       "2016                            75.0               NaN            NaN   NaN   \n",
       "2017                            14.0               4.0            1.0   1.0   \n",
       "2018                             6.0               NaN            NaN   NaN   \n",
       "\n",
       "risk_assess_level  Release with pretrial supervision - level unknown  \\\n",
       "year                                                                   \n",
       "2016                                                             NaN   \n",
       "2017                                                             NaN   \n",
       "2018                                                             2.0   \n",
       "\n",
       "risk_assess_level  Release without pretrial supervision  Sent by judge  Wavied  \n",
       "year                                                                            \n",
       "2016                                               14.0            1.0     1.0  \n",
       "2017                                                4.0            4.0     NaN  \n",
       "2018                                               15.0           24.0     NaN  "
      ]
     },
     "execution_count": 400,
     "metadata": {},
     "output_type": "execute_result"
    }
   ],
   "source": [
    "detain_by_year"
   ]
  },
  {
   "cell_type": "code",
   "execution_count": 401,
   "metadata": {},
   "outputs": [
    {
     "data": {
      "text/plain": [
       "Index(['Detain', 'Level 1', 'Level 2', 'Level 3', 'Level 4', 'No interview',\n",
       "       'No recommendation', 'Ordered by court', 'Parole Retake', 'Redo',\n",
       "       'Release with pretrial supervision - level unknown',\n",
       "       'Release without pretrial supervision', 'Sent by judge', 'Wavied'],\n",
       "      dtype='object', name='risk_assess_level')"
      ]
     },
     "execution_count": 401,
     "metadata": {},
     "output_type": "execute_result"
    }
   ],
   "source": [
    "detain_by_year.columns"
   ]
  },
  {
   "cell_type": "code",
   "execution_count": 402,
   "metadata": {},
   "outputs": [
    {
     "data": {
      "text/plain": [
       "Int64Index([2016, 2017, 2018], dtype='int64', name='year')"
      ]
     },
     "execution_count": 402,
     "metadata": {},
     "output_type": "execute_result"
    }
   ],
   "source": [
    "detain_by_year.index"
   ]
  },
  {
   "cell_type": "code",
   "execution_count": 403,
   "metadata": {},
   "outputs": [],
   "source": [
    "detain_by_year=detain_by_year.drop(columns=['No interview','Ordered by court','Parole Retake','Redo','Release with pretrial supervision - level unknown','Sent by judge','Wavied'])"
   ]
  },
  {
   "cell_type": "code",
   "execution_count": 430,
   "metadata": {},
   "outputs": [
    {
     "data": {
      "text/html": [
       "<div>\n",
       "<style scoped>\n",
       "    .dataframe tbody tr th:only-of-type {\n",
       "        vertical-align: middle;\n",
       "    }\n",
       "\n",
       "    .dataframe tbody tr th {\n",
       "        vertical-align: top;\n",
       "    }\n",
       "\n",
       "    .dataframe thead th {\n",
       "        text-align: right;\n",
       "    }\n",
       "</style>\n",
       "<table border=\"1\" class=\"dataframe\">\n",
       "  <thead>\n",
       "    <tr style=\"text-align: right;\">\n",
       "      <th>risk_assess_level</th>\n",
       "      <th>Detain</th>\n",
       "      <th>Level 1</th>\n",
       "      <th>Level 2</th>\n",
       "      <th>Level 3</th>\n",
       "      <th>Level 4</th>\n",
       "      <th>No recommendation</th>\n",
       "      <th>Release without pretrial supervision</th>\n",
       "    </tr>\n",
       "    <tr>\n",
       "      <th>year</th>\n",
       "      <th></th>\n",
       "      <th></th>\n",
       "      <th></th>\n",
       "      <th></th>\n",
       "      <th></th>\n",
       "      <th></th>\n",
       "      <th></th>\n",
       "    </tr>\n",
       "  </thead>\n",
       "  <tbody>\n",
       "    <tr>\n",
       "      <th>2016</th>\n",
       "      <td>292.0</td>\n",
       "      <td>2.0</td>\n",
       "      <td>7.0</td>\n",
       "      <td>5.0</td>\n",
       "      <td>17.0</td>\n",
       "      <td>75.0</td>\n",
       "      <td>14.0</td>\n",
       "    </tr>\n",
       "    <tr>\n",
       "      <th>2017</th>\n",
       "      <td>359.0</td>\n",
       "      <td>1.0</td>\n",
       "      <td>10.0</td>\n",
       "      <td>6.0</td>\n",
       "      <td>15.0</td>\n",
       "      <td>14.0</td>\n",
       "      <td>4.0</td>\n",
       "    </tr>\n",
       "    <tr>\n",
       "      <th>2018</th>\n",
       "      <td>424.0</td>\n",
       "      <td>6.0</td>\n",
       "      <td>6.0</td>\n",
       "      <td>17.0</td>\n",
       "      <td>14.0</td>\n",
       "      <td>6.0</td>\n",
       "      <td>15.0</td>\n",
       "    </tr>\n",
       "  </tbody>\n",
       "</table>\n",
       "</div>"
      ],
      "text/plain": [
       "risk_assess_level  Detain  Level 1  Level 2  Level 3  Level 4  \\\n",
       "year                                                            \n",
       "2016                292.0      2.0      7.0      5.0     17.0   \n",
       "2017                359.0      1.0     10.0      6.0     15.0   \n",
       "2018                424.0      6.0      6.0     17.0     14.0   \n",
       "\n",
       "risk_assess_level  No recommendation  Release without pretrial supervision  \n",
       "year                                                                        \n",
       "2016                            75.0                                  14.0  \n",
       "2017                            14.0                                   4.0  \n",
       "2018                             6.0                                  15.0  "
      ]
     },
     "execution_count": 430,
     "metadata": {},
     "output_type": "execute_result"
    }
   ],
   "source": [
    "detain_by_year"
   ]
  },
  {
   "cell_type": "code",
   "execution_count": 433,
   "metadata": {},
   "outputs": [
    {
     "data": {
      "text/plain": [
       "Text(0.5,1,'Yearly Change in Risk Assessment Level of Defendants')"
      ]
     },
     "execution_count": 433,
     "metadata": {},
     "output_type": "execute_result"
    },
    {
     "data": {
      "image/png": "[encoded data removed]",
      "text/plain": [
       "<matplotlib.figure.Figure at 0x13046edd8>"
      ]
     },
     "metadata": {},
     "output_type": "display_data"
    }
   ],
   "source": [
    "\n",
    "detain_by_year.plot.line(stacked=True,figsize=(10,10))\n",
    "plt.xticks(range(year_min, year_max+1, 1))\n",
    "plt.title('Yearly Change in Risk Assessment Level of Defendants')"
   ]
  },
  {
   "cell_type": "markdown",
   "metadata": {},
   "source": [
    "## It can be seen that number of detained defendants increase over the years while the No recommendation cases have a little dip from 2016 to 2017 but has a sharp increase from year 2017 to 2018."
   ]
  },
  {
   "cell_type": "code",
   "execution_count": 428,
   "metadata": {},
   "outputs": [
    {
     "data": {
      "text/plain": [
       "([<matplotlib.axis.XTick at 0x12fae7eb8>,\n",
       "  <matplotlib.axis.XTick at 0x12fae7d30>,\n",
       "  <matplotlib.axis.XTick at 0x12fabc6a0>],\n",
       " <a list of 3 Text xticklabel objects>)"
      ]
     },
     "execution_count": 428,
     "metadata": {},
     "output_type": "execute_result"
    },
    {
     "data": {
      "text/plain": [
       "<matplotlib.figure.Figure at 0x12f457a20>"
      ]
     },
     "metadata": {},
     "output_type": "display_data"
    },
    {
     "data": {
      "image/png": "[encoded data removed]",
      "text/plain": [
       "<matplotlib.figure.Figure at 0x12f829a90>"
      ]
     },
     "metadata": {},
     "output_type": "display_data"
    }
   ],
   "source": [
    "plt.figure(figsize=(15,7))\n",
    "detain_by_year.plot(kind='line', subplots=True,figsize=(10,10))\n",
    "plt.xticks(range(year_min, year_max+1, 1))"
   ]
  },
  {
   "cell_type": "code",
   "execution_count": null,
   "metadata": {},
   "outputs": [],
   "source": []
  },
  {
   "cell_type": "code",
   "execution_count": null,
   "metadata": {},
   "outputs": [],
   "source": []
  }
 ],
 "metadata": {
  "kernelspec": {
   "display_name": "Python 3",
   "language": "python",
   "name": "python3"
  },
  "language_info": {
   "codemirror_mode": {
    "name": "ipython",
    "version": 3
   },
   "file_extension": ".py",
   "mimetype": "text/x-python",
   "name": "python",
   "nbconvert_exporter": "python",
   "pygments_lexer": "ipython3",
   "version": "3.6.4"
  }
 },
 "nbformat": 4,
 "nbformat_minor": 2
}
